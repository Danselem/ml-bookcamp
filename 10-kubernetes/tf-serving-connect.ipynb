{
 "cells": [
  {
   "cell_type": "code",
   "execution_count": 1,
   "id": "7a5e8837",
   "metadata": {},
   "outputs": [
    {
     "data": {
      "application/javascript": "IPython.notebook.set_autosave_interval(0)"
     },
     "metadata": {},
     "output_type": "display_data"
    },
    {
     "name": "stdout",
     "output_type": "stream",
     "text": [
      "Autosave disabled\n"
     ]
    }
   ],
   "source": [
    "%autosave 0"
   ]
  },
  {
   "cell_type": "code",
   "execution_count": 1,
   "id": "cd9cc337",
   "metadata": {},
   "outputs": [],
   "source": [
    "import tensorflow as tf\n",
    "from tensorflow import keras"
   ]
  },
  {
   "cell_type": "code",
   "execution_count": 14,
   "id": "bc3eb0d6",
   "metadata": {},
   "outputs": [
    {
     "name": "stdout",
     "output_type": "stream",
     "text": [
      "Metal device set to: Apple M1\n",
      "\n",
      "systemMemory: 16.00 GB\n",
      "maxCacheSize: 5.33 GB\n",
      "\n"
     ]
    },
    {
     "name": "stderr",
     "output_type": "stream",
     "text": [
      "2022-12-05 15:35:13.860946: I tensorflow/core/common_runtime/pluggable_device/pluggable_device_factory.cc:306] Could not identify NUMA node of platform GPU ID 0, defaulting to 0. Your kernel may not have been built with NUMA support.\n",
      "2022-12-05 15:35:13.861339: I tensorflow/core/common_runtime/pluggable_device/pluggable_device_factory.cc:272] Created TensorFlow device (/job:localhost/replica:0/task:0/device:GPU:0 with 0 MB memory) -> physical PluggableDevice (device: 0, name: METAL, pci bus id: <undefined>)\n"
     ]
    }
   ],
   "source": [
    "model = keras.models.load_model(\"./clothing-model-v4.h5\")"
   ]
  },
  {
   "cell_type": "code",
   "execution_count": 15,
   "id": "f789b953",
   "metadata": {},
   "outputs": [
    {
     "data": {
      "text/plain": [
       "<keras.engine.functional.Functional at 0x2858dc400>"
      ]
     },
     "execution_count": 15,
     "metadata": {},
     "output_type": "execute_result"
    }
   ],
   "source": [
    "model"
   ]
  },
  {
   "cell_type": "code",
   "execution_count": 16,
   "id": "4c6929af",
   "metadata": {},
   "outputs": [
    {
     "name": "stderr",
     "output_type": "stream",
     "text": [
      "WARNING:absl:Found untraced functions such as _jit_compiled_convolution_op, _jit_compiled_convolution_op, _jit_compiled_convolution_op, _jit_compiled_convolution_op, _jit_compiled_convolution_op while saving (showing 5 of 40). These functions will not be directly callable after loading.\n"
     ]
    },
    {
     "name": "stdout",
     "output_type": "stream",
     "text": [
      "INFO:tensorflow:Assets written to: clothing-model/assets\n"
     ]
    },
    {
     "name": "stderr",
     "output_type": "stream",
     "text": [
      "INFO:tensorflow:Assets written to: clothing-model/assets\n"
     ]
    }
   ],
   "source": [
    "tf.saved_model.save(model, 'clothing-model')"
   ]
  },
  {
   "cell_type": "code",
   "execution_count": 17,
   "id": "44a74821",
   "metadata": {},
   "outputs": [
    {
     "name": "stdout",
     "output_type": "stream",
     "text": [
      "\n",
      "MetaGraphDef with tag-set: 'serve' contains the following SignatureDefs:\n",
      "\n",
      "signature_def['__saved_model_init_op']:\n",
      "  The given SavedModel SignatureDef contains the following input(s):\n",
      "  The given SavedModel SignatureDef contains the following output(s):\n",
      "    outputs['__saved_model_init_op'] tensor_info:\n",
      "        dtype: DT_INVALID\n",
      "        shape: unknown_rank\n",
      "        name: NoOp\n",
      "  Method name is: \n",
      "\n",
      "signature_def['serving_default']:\n",
      "  The given SavedModel SignatureDef contains the following input(s):\n",
      "    inputs['input_8'] tensor_info:\n",
      "        dtype: DT_FLOAT\n",
      "        shape: (-1, 299, 299, 3)\n",
      "        name: serving_default_input_8:0\n",
      "  The given SavedModel SignatureDef contains the following output(s):\n",
      "    outputs['dense_7'] tensor_info:\n",
      "        dtype: DT_FLOAT\n",
      "        shape: (-1, 10)\n",
      "        name: StatefulPartitionedCall:0\n",
      "  Method name is: tensorflow/serving/predict\n",
      "\n",
      "Concrete Functions:\n",
      "  Function Name: '__call__'\n",
      "    Option #1\n",
      "      Callable with:\n",
      "        Argument #1\n",
      "          input_8: TensorSpec(shape=(None, 299, 299, 3), dtype=tf.float32, name='input_8')\n",
      "        Argument #2\n",
      "          DType: bool\n",
      "          Value: False\n",
      "        Argument #3\n",
      "          DType: NoneType\n",
      "          Value: None\n",
      "    Option #2\n",
      "      Callable with:\n",
      "        Argument #1\n",
      "          inputs: TensorSpec(shape=(None, 299, 299, 3), dtype=tf.float32, name='inputs')\n",
      "        Argument #2\n",
      "          DType: bool\n",
      "          Value: False\n",
      "        Argument #3\n",
      "          DType: NoneType\n",
      "          Value: None\n",
      "    Option #3\n",
      "      Callable with:\n",
      "        Argument #1\n",
      "          inputs: TensorSpec(shape=(None, 299, 299, 3), dtype=tf.float32, name='inputs')\n",
      "        Argument #2\n",
      "          DType: bool\n",
      "          Value: True\n",
      "        Argument #3\n",
      "          DType: NoneType\n",
      "          Value: None\n",
      "    Option #4\n",
      "      Callable with:\n",
      "        Argument #1\n",
      "          input_8: TensorSpec(shape=(None, 299, 299, 3), dtype=tf.float32, name='input_8')\n",
      "        Argument #2\n",
      "          DType: bool\n",
      "          Value: True\n",
      "        Argument #3\n",
      "          DType: NoneType\n",
      "          Value: None\n",
      "\n",
      "  Function Name: '_default_save_signature'\n",
      "    Option #1\n",
      "      Callable with:\n",
      "        Argument #1\n",
      "          input_8: TensorSpec(shape=(None, 299, 299, 3), dtype=tf.float32, name='input_8')\n",
      "\n",
      "  Function Name: 'call_and_return_all_conditional_losses'\n",
      "    Option #1\n",
      "      Callable with:\n",
      "        Argument #1\n",
      "          input_8: TensorSpec(shape=(None, 299, 299, 3), dtype=tf.float32, name='input_8')\n",
      "        Argument #2\n",
      "          DType: bool\n",
      "          Value: False\n",
      "        Argument #3\n",
      "          DType: NoneType\n",
      "          Value: None\n",
      "    Option #2\n",
      "      Callable with:\n",
      "        Argument #1\n",
      "          input_8: TensorSpec(shape=(None, 299, 299, 3), dtype=tf.float32, name='input_8')\n",
      "        Argument #2\n",
      "          DType: bool\n",
      "          Value: True\n",
      "        Argument #3\n",
      "          DType: NoneType\n",
      "          Value: None\n",
      "    Option #3\n",
      "      Callable with:\n",
      "        Argument #1\n",
      "          inputs: TensorSpec(shape=(None, 299, 299, 3), dtype=tf.float32, name='inputs')\n",
      "        Argument #2\n",
      "          DType: bool\n",
      "          Value: False\n",
      "        Argument #3\n",
      "          DType: NoneType\n",
      "          Value: None\n",
      "    Option #4\n",
      "      Callable with:\n",
      "        Argument #1\n",
      "          inputs: TensorSpec(shape=(None, 299, 299, 3), dtype=tf.float32, name='inputs')\n",
      "        Argument #2\n",
      "          DType: bool\n",
      "          Value: True\n",
      "        Argument #3\n",
      "          DType: NoneType\n",
      "          Value: None\n"
     ]
    }
   ],
   "source": [
    "!saved_model_cli show --dir clothing-model --all"
   ]
  },
  {
   "attachments": {},
   "cell_type": "markdown",
   "id": "46d6d8c0",
   "metadata": {},
   "source": [
    "#### Model local deployment"
   ]
  },
  {
   "attachments": {},
   "cell_type": "markdown",
   "id": "4470f7cb",
   "metadata": {},
   "source": [
    "`docker run -it --rm \\`\n",
    "  `-p 8500:8500 \\`\n",
    "  `-v $(pwd)/clothing-model:/models/clothing-model/1 \\`\n",
    "  `-e MODEL_NAME=\"clothing-model\" \\`\n",
    "  `tensorflow/serving:2.7.0`\n",
    "\n",
    "throws an error:\n",
    "\n",
    "Status: Downloaded newer image for tensorflow/serving:2.7.0\n",
    "[libprotobuf FATAL external/com_google_protobuf/src/google/protobuf/generated_message_reflection.cc:2345] CHECK failed: file != nullptr: \n",
    "terminate called after throwing an instance of 'google::protobuf::FatalException'\n",
    "  what():  CHECK failed: file != nullptr: \n",
    "qemu: uncaught target signal 6 (Aborted) - core dumped\n",
    "/usr/bin/tf_serving_entrypoint.sh: line 3:     8 Aborted                 tensorflow_model_server --port=8500 --rest_api_port=8501 --model_name=${MODEL_NAME} --model_base_path=${MODEL_BASE_PATH}/${MODEL_NAME} \"$@\"\n",
    "\n",
    "\n",
    "Solution:\n",
    "`docker pull emacski/tensorflow-serving:latest-linux_arm64`\n",
    "\n",
    "`docker run -it --rm \\`\n",
    "  `-p 8500:8500 \\`\n",
    "  `-v $(pwd)/clothing-model:/models/clothing-model/1 \\`\n",
    "  `-e MODEL_NAME=\"clothing-model\" \\`\n",
    "  `emacski/tensorflow-serving:latest-linux_arm64`\n",
    "\n",
    "\n",
    "\n"
   ]
  },
  {
   "cell_type": "code",
   "execution_count": 22,
   "id": "1588cca2",
   "metadata": {},
   "outputs": [
    {
     "name": "stdout",
     "output_type": "stream",
     "text": [
      "Requirement already satisfied: tensorflow-serving-api in /Users/daniel/miniconda3/envs/tensorflow/lib/python3.9/site-packages (2.11.0)\n"
     ]
    }
   ],
   "source": [
    "#!pip install grpcio==1.42.0 tensorflow-serving-api==2.6.0\n",
    "\n",
    "#!pip install grpcio==1.42.0 tensorflow-serving-api-python3\n",
    "\n",
    "!pip3 install --no-deps tensorflow-serving-api"
   ]
  },
  {
   "cell_type": "code",
   "execution_count": 23,
   "id": "6e4788a2",
   "metadata": {},
   "outputs": [
    {
     "name": "stdout",
     "output_type": "stream",
     "text": [
      "Requirement already satisfied: keras-image-helper in /Users/daniel/miniconda3/envs/tensorflow/lib/python3.9/site-packages (0.0.1)\n",
      "Requirement already satisfied: pillow in /Users/daniel/miniconda3/envs/tensorflow/lib/python3.9/site-packages (from keras-image-helper) (9.2.0)\n",
      "Requirement already satisfied: numpy in /Users/daniel/miniconda3/envs/tensorflow/lib/python3.9/site-packages (from keras-image-helper) (1.23.2)\n"
     ]
    }
   ],
   "source": [
    "!pip install keras-image-helper"
   ]
  },
  {
   "cell_type": "code",
   "execution_count": 13,
   "id": "78a456a7",
   "metadata": {},
   "outputs": [],
   "source": [
    "import grpc\n",
    "\n",
    "import tensorflow as tf\n",
    "\n",
    "from tensorflow_serving.apis import predict_pb2\n",
    "from tensorflow_serving.apis import prediction_service_pb2_grpc"
   ]
  },
  {
   "cell_type": "code",
   "execution_count": 2,
   "id": "e09c215c",
   "metadata": {},
   "outputs": [],
   "source": [
    "host = 'localhost:8500'\n",
    "\n",
    "channel = grpc.insecure_channel(host)\n",
    "\n",
    "stub = prediction_service_pb2_grpc.PredictionServiceStub(channel)"
   ]
  },
  {
   "cell_type": "code",
   "execution_count": 3,
   "id": "4fdffcc1",
   "metadata": {},
   "outputs": [],
   "source": [
    "from keras_image_helper import create_preprocessor"
   ]
  },
  {
   "cell_type": "code",
   "execution_count": 4,
   "id": "c77766e1",
   "metadata": {},
   "outputs": [],
   "source": [
    "preprocessor = create_preprocessor('xception', target_size=(299, 299))"
   ]
  },
  {
   "cell_type": "code",
   "execution_count": 5,
   "id": "aa686a62",
   "metadata": {},
   "outputs": [],
   "source": [
    "url = 'http://bit.ly/mlbookcamp-pants'\n",
    "X = preprocessor.from_url(url)"
   ]
  },
  {
   "cell_type": "code",
   "execution_count": 6,
   "id": "6e9810d1",
   "metadata": {},
   "outputs": [],
   "source": [
    "def np_to_protobuf(data):\n",
    "    return tf.make_tensor_proto(data, shape=data.shape)"
   ]
  },
  {
   "cell_type": "code",
   "execution_count": 7,
   "id": "3659a577",
   "metadata": {},
   "outputs": [],
   "source": [
    "pb_request = predict_pb2.PredictRequest()\n",
    "\n",
    "pb_request.model_spec.name = 'clothing-model'\n",
    "pb_request.model_spec.signature_name = 'serving_default'\n",
    "\n",
    "pb_request.inputs['input_8'].CopyFrom(np_to_protobuf(X))"
   ]
  },
  {
   "cell_type": "code",
   "execution_count": 8,
   "id": "6823df3d",
   "metadata": {},
   "outputs": [],
   "source": [
    "pb_response = stub.Predict(pb_request, timeout=20.0)"
   ]
  },
  {
   "cell_type": "code",
   "execution_count": 9,
   "id": "f0dece29",
   "metadata": {},
   "outputs": [],
   "source": [
    "preds = pb_response.outputs['dense_7'].float_val"
   ]
  },
  {
   "cell_type": "code",
   "execution_count": 10,
   "id": "f5b392f3",
   "metadata": {},
   "outputs": [],
   "source": [
    "classes = [\n",
    "    'dress',\n",
    "    'hat',\n",
    "    'longsleeve',\n",
    "    'outwear',\n",
    "    'pants',\n",
    "    'shirt',\n",
    "    'shoes',\n",
    "    'shorts',\n",
    "    'skirt',\n",
    "    't-shirt'\n",
    "]"
   ]
  },
  {
   "cell_type": "code",
   "execution_count": 11,
   "id": "a77fb533",
   "metadata": {},
   "outputs": [
    {
     "data": {
      "text/plain": [
       "{'dress': -1.8682887554168701,\n",
       " 'hat': -4.761242389678955,\n",
       " 'longsleeve': -2.3169844150543213,\n",
       " 'outwear': -1.0625687837600708,\n",
       " 'pants': 9.887155532836914,\n",
       " 'shirt': -2.8124337196350098,\n",
       " 'shoes': -3.6662817001342773,\n",
       " 'shorts': 3.2003633975982666,\n",
       " 'skirt': -2.6023409366607666,\n",
       " 't-shirt': -4.835043907165527}"
      ]
     },
     "execution_count": 11,
     "metadata": {},
     "output_type": "execute_result"
    }
   ],
   "source": [
    "dict(zip(classes, preds))"
   ]
  },
  {
   "cell_type": "code",
   "execution_count": null,
   "id": "588ccdc9",
   "metadata": {},
   "outputs": [],
   "source": [
    "https://github.com/alexeygrigorev/mlbookcamp-code/releases/download/chapter7-model/xception_v4_large_08_0.894.h5"
   ]
  }
 ],
 "metadata": {
  "kernelspec": {
   "display_name": "tensorflow",
   "language": "python",
   "name": "python3"
  },
  "language_info": {
   "codemirror_mode": {
    "name": "ipython",
    "version": 3
   },
   "file_extension": ".py",
   "mimetype": "text/x-python",
   "name": "python",
   "nbconvert_exporter": "python",
   "pygments_lexer": "ipython3",
   "version": "3.9.15"
  },
  "vscode": {
   "interpreter": {
    "hash": "ad87721d00269a0243ed5de4ed23775ddbc07181f65d51be303a6d14e0f00d70"
   }
  }
 },
 "nbformat": 4,
 "nbformat_minor": 5
}
