{
 "cells": [
  {
   "cell_type": "code",
   "execution_count": 3,
   "metadata": {},
   "outputs": [
    {
     "name": "stdout",
     "output_type": "stream",
     "text": [
      "Requirement already satisfied: pillow in /Users/daniel/miniconda3/envs/tensorflow/lib/python3.9/site-packages (9.2.0)\n"
     ]
    }
   ],
   "source": [
    "!pip install pillow\n",
    "\n",
    "import numpy as np\n",
    "\n",
    "import tensorflow as tf\n",
    "from tensorflow import keras"
   ]
  },
  {
   "cell_type": "code",
   "execution_count": 4,
   "metadata": {},
   "outputs": [],
   "source": [
    "from tensorflow.keras.preprocessing.image import load_img\n",
    "from tensorflow.keras.applications.xception import preprocess_input"
   ]
  },
  {
   "cell_type": "code",
   "execution_count": 5,
   "metadata": {},
   "outputs": [
    {
     "name": "stdout",
     "output_type": "stream",
     "text": [
      "Metal device set to: Apple M1\n",
      "\n",
      "systemMemory: 16.00 GB\n",
      "maxCacheSize: 5.33 GB\n",
      "\n"
     ]
    },
    {
     "name": "stderr",
     "output_type": "stream",
     "text": [
      "2022-11-28 13:37:03.715656: I tensorflow/core/common_runtime/pluggable_device/pluggable_device_factory.cc:306] Could not identify NUMA node of platform GPU ID 0, defaulting to 0. Your kernel may not have been built with NUMA support.\n",
      "2022-11-28 13:37:03.717131: I tensorflow/core/common_runtime/pluggable_device/pluggable_device_factory.cc:272] Created TensorFlow device (/job:localhost/replica:0/task:0/device:GPU:0 with 0 MB memory) -> physical PluggableDevice (device: 0, name: METAL, pci bus id: <undefined>)\n"
     ]
    }
   ],
   "source": [
    "model = keras.models.load_model('dino_dragon_10_0.899.h5')"
   ]
  },
  {
   "cell_type": "code",
   "execution_count": 7,
   "metadata": {},
   "outputs": [
    {
     "name": "stderr",
     "output_type": "stream",
     "text": [
      "2022-11-28 13:37:58.575195: I tensorflow/core/grappler/optimizers/custom_graph_optimizer_registry.cc:114] Plugin optimizer for device_type GPU is enabled.\n"
     ]
    },
    {
     "name": "stdout",
     "output_type": "stream",
     "text": [
      "1/1 [==============================] - 1s 637ms/step\n"
     ]
    }
   ],
   "source": [
    "img = load_img('1280px-Smaug_par_David_Demaret.jpg', target_size=(150, 150))\n",
    "\n",
    "x = np.array(img)\n",
    "X = np.array([x])\n",
    "\n",
    "X = preprocess_input(X)\n",
    "\n",
    "preds = model.predict(X)"
   ]
  },
  {
   "cell_type": "code",
   "execution_count": 8,
   "metadata": {},
   "outputs": [
    {
     "data": {
      "text/plain": [
       "array([[1.]], dtype=float32)"
      ]
     },
     "execution_count": 8,
     "metadata": {},
     "output_type": "execute_result"
    }
   ],
   "source": [
    "preds"
   ]
  },
  {
   "cell_type": "code",
   "execution_count": 9,
   "metadata": {},
   "outputs": [
    {
     "name": "stderr",
     "output_type": "stream",
     "text": [
      "WARNING:absl:Found untraced functions such as _jit_compiled_convolution_op while saving (showing 1 of 1). These functions will not be directly callable after loading.\n"
     ]
    },
    {
     "name": "stdout",
     "output_type": "stream",
     "text": [
      "INFO:tensorflow:Assets written to: /var/folders/wg/jtm_b31d60jgtpd71c8mfj2h0000gn/T/tmp9zp79ys5/assets\n"
     ]
    },
    {
     "name": "stderr",
     "output_type": "stream",
     "text": [
      "INFO:tensorflow:Assets written to: /var/folders/wg/jtm_b31d60jgtpd71c8mfj2h0000gn/T/tmp9zp79ys5/assets\n",
      "2022-11-28 16:24:45.320409: W tensorflow/compiler/mlir/lite/python/tf_tfl_flatbuffer_helpers.cc:362] Ignored output_format.\n",
      "2022-11-28 16:24:45.320424: W tensorflow/compiler/mlir/lite/python/tf_tfl_flatbuffer_helpers.cc:365] Ignored drop_control_dependency.\n",
      "2022-11-28 16:24:45.322049: I tensorflow/cc/saved_model/reader.cc:45] Reading SavedModel from: /var/folders/wg/jtm_b31d60jgtpd71c8mfj2h0000gn/T/tmp9zp79ys5\n",
      "2022-11-28 16:24:45.323500: I tensorflow/cc/saved_model/reader.cc:89] Reading meta graph with tags { serve }\n",
      "2022-11-28 16:24:45.323506: I tensorflow/cc/saved_model/reader.cc:130] Reading SavedModel debug info (if present) from: /var/folders/wg/jtm_b31d60jgtpd71c8mfj2h0000gn/T/tmp9zp79ys5\n",
      "2022-11-28 16:24:45.325877: I tensorflow/compiler/mlir/mlir_graph_optimization_pass.cc:354] MLIR V1 optimization pass is not enabled\n",
      "2022-11-28 16:24:45.326508: I tensorflow/cc/saved_model/loader.cc:229] Restoring SavedModel bundle.\n",
      "2022-11-28 16:24:45.442251: I tensorflow/cc/saved_model/loader.cc:213] Running initialization op on SavedModel bundle at path: /var/folders/wg/jtm_b31d60jgtpd71c8mfj2h0000gn/T/tmp9zp79ys5\n",
      "2022-11-28 16:24:45.447727: I tensorflow/cc/saved_model/loader.cc:305] SavedModel load for tags { serve }; Status: success: OK. Took 125698 microseconds.\n",
      "2022-11-28 16:24:45.475276: I tensorflow/compiler/mlir/tensorflow/utils/dump_mlir_util.cc:268] disabling MLIR crash reproducer, set env var `MLIR_CRASH_REPRODUCER_DIRECTORY` to enable.\n"
     ]
    }
   ],
   "source": [
    "converter = tf.lite.TFLiteConverter.from_keras_model(model)\n",
    "\n",
    "tflite_model = converter.convert()\n",
    "\n",
    "with open('dino_dragon.tflite', 'wb') as f_out:\n",
    "    f_out.write(tflite_model)"
   ]
  },
  {
   "attachments": {},
   "cell_type": "markdown",
   "metadata": {},
   "source": [
    "### Question 1"
   ]
  },
  {
   "cell_type": "code",
   "execution_count": 12,
   "metadata": {},
   "outputs": [
    {
     "name": "stdout",
     "output_type": "stream",
     "text": [
      "-rw-r--r--  1 daniel  staff    43M Nov 28 16:24 dino_dragon.tflite\n"
     ]
    }
   ],
   "source": [
    "!ls -lh dino_dragon.tflite"
   ]
  },
  {
   "attachments": {},
   "cell_type": "markdown",
   "metadata": {},
   "source": [
    "### Question 2"
   ]
  },
  {
   "cell_type": "code",
   "execution_count": 11,
   "metadata": {},
   "outputs": [],
   "source": [
    "import tensorflow.lite as tflite"
   ]
  },
  {
   "cell_type": "code",
   "execution_count": 12,
   "metadata": {},
   "outputs": [
    {
     "data": {
      "text/plain": [
       "13"
      ]
     },
     "execution_count": 12,
     "metadata": {},
     "output_type": "execute_result"
    }
   ],
   "source": [
    "interpreter = tflite.Interpreter(model_path='dino_dragon.tflite')\n",
    "interpreter.allocate_tensors()\n",
    "\n",
    "input_index = interpreter.get_input_details()[0]['index']\n",
    "output_index = interpreter.get_output_details()[0]['index']\n",
    "\n",
    "output_index"
   ]
  },
  {
   "cell_type": "code",
   "execution_count": 13,
   "metadata": {},
   "outputs": [
    {
     "data": {
      "text/plain": [
       "(150, 150)"
      ]
     },
     "execution_count": 13,
     "metadata": {},
     "output_type": "execute_result"
    }
   ],
   "source": [
    "target_size = tuple(interpreter.get_input_details()[0]['shape'][1:3])\n",
    "target_size"
   ]
  },
  {
   "cell_type": "code",
   "execution_count": 14,
   "metadata": {},
   "outputs": [],
   "source": [
    "from io import BytesIO\n",
    "from urllib import request\n",
    "\n",
    "from PIL import Image\n",
    "\n",
    "def download_image(url):\n",
    "    with request.urlopen(url) as resp:\n",
    "        buffer = resp.read()\n",
    "    stream = BytesIO(buffer)\n",
    "    img = Image.open(stream)\n",
    "    return img\n",
    "\n",
    "\n",
    "def prepare_image(img, target_size):\n",
    "    if img.mode != 'RGB':\n",
    "        img = img.convert('RGB')\n",
    "    img = img.resize(target_size, Image.NEAREST)\n",
    "    return img"
   ]
  },
  {
   "attachments": {},
   "cell_type": "markdown",
   "metadata": {},
   "source": [
    "### Question 3"
   ]
  },
  {
   "cell_type": "code",
   "execution_count": 16,
   "metadata": {},
   "outputs": [
    {
     "name": "stderr",
     "output_type": "stream",
     "text": [
      "/var/folders/wg/jtm_b31d60jgtpd71c8mfj2h0000gn/T/ipykernel_70507/2487457277.py:17: DeprecationWarning: NEAREST is deprecated and will be removed in Pillow 10 (2023-07-01). Use Resampling.NEAREST or Dither.NONE instead.\n",
      "  img = img.resize(target_size, Image.NEAREST)\n"
     ]
    }
   ],
   "source": [
    "url = 'https://upload.wikimedia.org/wikipedia/commons/thumb/d/df/Smaug_par_David_Demaret.jpg/1280px-Smaug_par_David_Demaret.jpg'\n",
    "image_file = download_image(url=url)\n",
    "img = prepare_image(img=image_file, target_size=target_size)"
   ]
  },
  {
   "cell_type": "code",
   "execution_count": 19,
   "metadata": {},
   "outputs": [
    {
     "data": {
      "text/plain": [
       "array([[[[0.5529412 , 0.31764707, 0.1764706 ],\n",
       "         [0.57254905, 0.34117648, 0.1764706 ],\n",
       "         [0.5647059 , 0.3254902 , 0.14901961],\n",
       "         ...,\n",
       "         [0.07058824, 0.02745098, 0.01960784],\n",
       "         [0.07058824, 0.03921569, 0.02745098],\n",
       "         [0.10980392, 0.04705882, 0.04705882]],\n",
       "\n",
       "        [[0.5137255 , 0.28235295, 0.14901961],\n",
       "         [0.5529412 , 0.30980393, 0.15686275],\n",
       "         [0.5803922 , 0.34901962, 0.18431373],\n",
       "         ...,\n",
       "         [0.05882353, 0.04313726, 0.03137255],\n",
       "         [0.05490196, 0.02352941, 0.01176471],\n",
       "         [0.09803922, 0.03529412, 0.03921569]],\n",
       "\n",
       "        [[0.5058824 , 0.29411766, 0.15294118],\n",
       "         [0.5686275 , 0.34117648, 0.19607843],\n",
       "         [0.5568628 , 0.32156864, 0.1764706 ],\n",
       "         ...,\n",
       "         [0.07450981, 0.02745098, 0.02745098],\n",
       "         [0.09019608, 0.03529412, 0.03137255],\n",
       "         [0.07450981, 0.03529412, 0.03137255]],\n",
       "\n",
       "        ...,\n",
       "\n",
       "        [[0.29803923, 0.41960785, 0.36078432],\n",
       "         [0.4       , 0.36078432, 0.3529412 ],\n",
       "         [0.42745098, 0.48235294, 0.3529412 ],\n",
       "         ...,\n",
       "         [0.3882353 , 0.15686275, 0.02352941],\n",
       "         [0.30588236, 0.10196079, 0.01960784],\n",
       "         [0.39607844, 0.26666668, 0.09019608]],\n",
       "\n",
       "        [[0.2627451 , 0.4509804 , 0.49019608],\n",
       "         [0.31764707, 0.2509804 , 0.1882353 ],\n",
       "         [0.34901962, 0.57254905, 0.43529412],\n",
       "         ...,\n",
       "         [0.3882353 , 0.18039216, 0.02352941],\n",
       "         [0.3137255 , 0.10196079, 0.        ],\n",
       "         [0.21176471, 0.05098039, 0.10588235]],\n",
       "\n",
       "        [[0.30980393, 0.27450982, 0.34117648],\n",
       "         [0.09019608, 0.07450981, 0.        ],\n",
       "         [0.32156864, 0.20784314, 0.22352941],\n",
       "         ...,\n",
       "         [0.1882353 , 0.        , 0.02745098],\n",
       "         [0.37254903, 0.20784314, 0.05882353],\n",
       "         [0.3529412 , 0.15294118, 0.03921569]]]], dtype=float32)"
      ]
     },
     "execution_count": 19,
     "metadata": {},
     "output_type": "execute_result"
    }
   ],
   "source": [
    "x = np.array(img)\n",
    "X = np.array([x / 255], dtype=np.float32)\n",
    "X"
   ]
  },
  {
   "attachments": {},
   "cell_type": "markdown",
   "metadata": {},
   "source": [
    "Answer is 0.5529412\n",
    "\n",
    "### Question 4"
   ]
  },
  {
   "cell_type": "code",
   "execution_count": 20,
   "metadata": {},
   "outputs": [
    {
     "data": {
      "text/plain": [
       "0.82448643"
      ]
     },
     "execution_count": 20,
     "metadata": {},
     "output_type": "execute_result"
    }
   ],
   "source": [
    "interpreter.set_tensor(input_index, X)\n",
    "interpreter.invoke()\n",
    "\n",
    "interpreter.get_tensor(output_index)[0][0]"
   ]
  },
  {
   "cell_type": "code",
   "execution_count": 6,
   "metadata": {},
   "outputs": [
    {
     "name": "stdout",
     "output_type": "stream",
     "text": [
      "v2: Pulling from svizor42/zoomcamp-dino-dragon-lambda\n",
      "\n",
      "\u001b[1B8a52bef6: Already exists \n",
      "\u001b[1B8f2d3828: Already exists \n",
      "\u001b[1Bb5cc6248: Already exists \n",
      "\u001b[1B0148b8a0: Already exists \n",
      "\u001b[1Bb7dafa1a: Already exists \n",
      "\u001b[1Bbb8c0ba3: Already exists \n",
      "\u001b[1B98799db2: Already exists Digest: sha256:46be01f7953cd48ebe526329ddf781d92019b9d44de4ecb67d11f56eaccf79cb\n",
      "Status: Downloaded newer image for svizor42/zoomcamp-dino-dragon-lambda:v2\n",
      "docker.io/svizor42/zoomcamp-dino-dragon-lambda:v2\n"
     ]
    }
   ],
   "source": [
    "!docker pull svizor42/zoomcamp-dino-dragon-lambda:v2"
   ]
  },
  {
   "attachments": {},
   "cell_type": "markdown",
   "metadata": {},
   "source": [
    "### Question 5"
   ]
  },
  {
   "cell_type": "code",
   "execution_count": 9,
   "metadata": {},
   "outputs": [
    {
     "name": "stdout",
     "output_type": "stream",
     "text": [
      "REPOSITORY                             TAG       IMAGE ID       CREATED       SIZE\n",
      "svizor42/zoomcamp-dino-dragon-lambda   v2        20ef58b21a05   12 days ago   639MB\n"
     ]
    }
   ],
   "source": [
    "!docker images svizor42/zoomcamp-dino-dragon-lambda"
   ]
  },
  {
   "cell_type": "code",
   "execution_count": 10,
   "metadata": {},
   "outputs": [
    {
     "name": "stdout",
     "output_type": "stream",
     "text": [
      "\u001b[1A\u001b[1B\u001b[0G\u001b[?25l[+] Building 0.0s (0/1)                                                         \n",
      "\u001b[?25h\u001b[1A\u001b[0G\u001b[?25l[+] Building 0.1s (2/3)                                                         \n",
      "\u001b[34m => [internal] load build definition from Dockerfile                       0.0s\n",
      "\u001b[0m\u001b[34m => => transferring dockerfile: 37B                                        0.0s\n",
      "\u001b[0m\u001b[34m => [internal] load .dockerignore                                          0.0s\n",
      "\u001b[0m\u001b[34m => => transferring context: 2B                                            0.0s\n",
      "\u001b[0m => [internal] load metadata for docker.io/svizor42/zoomcamp-dino-dragon-  0.0s\n",
      "\u001b[?25h\u001b[1A\u001b[1A\u001b[1A\u001b[1A\u001b[1A\u001b[1A\u001b[0G\u001b[?25l[+] Building 0.1s (9/9) FINISHED                                                \n",
      "\u001b[34m => [internal] load build definition from Dockerfile                       0.0s\n",
      "\u001b[0m\u001b[34m => => transferring dockerfile: 37B                                        0.0s\n",
      "\u001b[0m\u001b[34m => [internal] load .dockerignore                                          0.0s\n",
      "\u001b[0m\u001b[34m => => transferring context: 2B                                            0.0s\n",
      "\u001b[0m\u001b[34m => [internal] load metadata for docker.io/svizor42/zoomcamp-dino-dragon-  0.0s\n",
      "\u001b[0m\u001b[34m => [1/4] FROM docker.io/svizor42/zoomcamp-dino-dragon-lambda:v2           0.0s\n",
      "\u001b[0m\u001b[34m => [internal] load build context                                          0.0s\n",
      "\u001b[0m\u001b[34m => => transferring context: 40B                                           0.0s\n",
      "\u001b[0m\u001b[34m => CACHED [2/4] RUN pip install pillow                                    0.0s\n",
      "\u001b[0m\u001b[34m => CACHED [3/4] RUN pip install https://github.com/alexeygrigorev/tflite  0.0s\n",
      "\u001b[0m\u001b[34m => CACHED [4/4] COPY lambda_function.py .                                 0.0s\n",
      "\u001b[0m\u001b[34m => exporting to image                                                     0.0s\n",
      "\u001b[0m\u001b[34m => => exporting layers                                                    0.0s\n",
      "\u001b[0m\u001b[34m => => writing image sha256:568c347afce69777d5a1f2c192e7b4d9c65d2d28363d9  0.0s\n",
      "\u001b[0m\u001b[34m => => naming to docker.io/library/dino_dragon-model                       0.0s\n",
      "\u001b[0m\u001b[?25h\n",
      "Use 'docker scan' to run Snyk tests against images to find vulnerabilities and learn how to fix them\n"
     ]
    }
   ],
   "source": [
    "!docker build --platform linux/amd64 -t dino_dragon-model ."
   ]
  },
  {
   "attachments": {},
   "cell_type": "markdown",
   "metadata": {},
   "source": [
    "### Question 6"
   ]
  },
  {
   "cell_type": "code",
   "execution_count": 11,
   "metadata": {},
   "outputs": [
    {
     "name": "stdout",
     "output_type": "stream",
     "text": [
      "{'prediction': 0.31950676441192627}\n"
     ]
    }
   ],
   "source": [
    "import requests\n",
    "\n",
    "url = 'http://localhost:8080/2015-03-31/functions/function/invocations'\n",
    "\n",
    "data = {'url': 'https://upload.wikimedia.org/wikipedia/en/e/e9/GodzillaEncounterModel.jpg'}\n",
    "\n",
    "result = requests.post(url, json=data).json()\n",
    "print(result)"
   ]
  },
  {
   "cell_type": "code",
   "execution_count": null,
   "metadata": {},
   "outputs": [],
   "source": []
  }
 ],
 "metadata": {
  "kernelspec": {
   "display_name": "tensorflow",
   "language": "python",
   "name": "python3"
  },
  "language_info": {
   "codemirror_mode": {
    "name": "ipython",
    "version": 3
   },
   "file_extension": ".py",
   "mimetype": "text/x-python",
   "name": "python",
   "nbconvert_exporter": "python",
   "pygments_lexer": "ipython3",
   "version": "3.9.15"
  },
  "orig_nbformat": 4,
  "vscode": {
   "interpreter": {
    "hash": "ad87721d00269a0243ed5de4ed23775ddbc07181f65d51be303a6d14e0f00d70"
   }
  }
 },
 "nbformat": 4,
 "nbformat_minor": 2
}
